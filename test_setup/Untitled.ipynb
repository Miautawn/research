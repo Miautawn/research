{
 "cells": [
  {
   "cell_type": "code",
   "execution_count": 66,
   "id": "0a14c6dc-cc55-4cbf-a1d7-209e1cdd63ce",
   "metadata": {},
   "outputs": [],
   "source": [
    "from diplomacy_research.utils.tensorflow import tf\n",
    "from diplomacy_research.models.datasets.base_builder import BaseBuilder\n",
    "from diplomacy_research.models.policy.order_based.dataset import no_press_all\n",
    "import pickle\n",
    "import numpy as np\n",
    "\n",
    "from diplomacy_research.models.state_space import get_adjacency_matrix\n",
    "from diplomacy_research.models.layers.graph_convolution import film_gcn_res_block, preprocess_adjacency"
   ]
  },
  {
   "cell_type": "code",
   "execution_count": 67,
   "id": "33865bfd-03ce-4067-af65-9d80bc815110",
   "metadata": {},
   "outputs": [],
   "source": [
    "tf.enable_eager_execution()"
   ]
  },
  {
   "cell_type": "code",
   "execution_count": 68,
   "id": "c507bf54-c680-4a95-976a-523d0921e54e",
   "metadata": {},
   "outputs": [],
   "source": [
    "from diplomacy_research.models.layers.dropout import SeededDropoutWrapper\n",
    "from diplomacy_research.models.layers.seeded_random import seeded_random"
   ]
  },
  {
   "cell_type": "code",
   "execution_count": 69,
   "id": "7ac19b4d-358e-4ce7-b876-9e5a593336a0",
   "metadata": {},
   "outputs": [],
   "source": [
    "lstm_cell = tf.contrib.rnn.LSTMBlockCell(10)"
   ]
  },
  {
   "cell_type": "code",
   "execution_count": 70,
   "id": "f87a015f-15ab-42b7-98cb-297cf29c09cc",
   "metadata": {},
   "outputs": [],
   "source": [
    "inputs = tf.ones(shape=(5, 14))"
   ]
  },
  {
   "cell_type": "code",
   "execution_count": 71,
   "id": "21bea855-16e0-4f98-9519-0be610985543",
   "metadata": {},
   "outputs": [],
   "source": [
    "output, cell_state = lstm_cell(inputs, lstm_cell.zero_state(5, dtype=float))"
   ]
  },
  {
   "cell_type": "code",
   "execution_count": 78,
   "id": "6547970f-7846-48cc-a3e7-3738f21ec932",
   "metadata": {},
   "outputs": [],
   "source": [
    "output += 1"
   ]
  },
  {
   "cell_type": "code",
   "execution_count": 79,
   "id": "97fc3fbd-3135-4546-b0be-8d61b01e6e96",
   "metadata": {},
   "outputs": [
    {
     "data": {
      "text/plain": [
       "<tf.Tensor: id=395, shape=(5, 10), dtype=float32, numpy=\n",
       "array([[ 0.22209373, -0.03357967, -0.02534223,  0.04242827, -0.13270867,\n",
       "        -0.07274736,  0.01204854, -0.12289876,  0.0889146 , -0.1324391 ],\n",
       "       [ 0.22209373, -0.03357967, -0.02534223,  0.04242827, -0.13270867,\n",
       "        -0.07274736,  0.01204854, -0.12289876,  0.0889146 , -0.1324391 ],\n",
       "       [ 0.22209373, -0.03357967, -0.02534223,  0.04242827, -0.13270867,\n",
       "        -0.07274736,  0.01204854, -0.12289876,  0.0889146 , -0.1324391 ],\n",
       "       [ 0.22209373, -0.03357967, -0.02534223,  0.04242827, -0.13270867,\n",
       "        -0.07274736,  0.01204854, -0.12289876,  0.0889146 , -0.1324391 ],\n",
       "       [ 0.22209373, -0.03357967, -0.02534223,  0.04242827, -0.13270867,\n",
       "        -0.07274736,  0.01204854, -0.12289876,  0.0889146 , -0.13243912]],\n",
       "      dtype=float32)>"
      ]
     },
     "execution_count": 79,
     "metadata": {},
     "output_type": "execute_result"
    }
   ],
   "source": [
    "cell_state[1]"
   ]
  },
  {
   "cell_type": "code",
   "execution_count": 80,
   "id": "a1ce433d-c75a-43e0-9b85-1d5c856dcef4",
   "metadata": {},
   "outputs": [
    {
     "data": {
      "text/plain": [
       "<tf.Tensor: id=405, shape=(5, 10), dtype=float32, numpy=\n",
       "array([[1.2220937 , 0.96642035, 0.9746578 , 1.0424283 , 0.86729133,\n",
       "        0.92725265, 1.0120485 , 0.87710124, 1.0889146 , 0.86756086],\n",
       "       [1.2220937 , 0.96642035, 0.9746578 , 1.0424283 , 0.86729133,\n",
       "        0.92725265, 1.0120485 , 0.87710124, 1.0889146 , 0.86756086],\n",
       "       [1.2220937 , 0.96642035, 0.9746578 , 1.0424283 , 0.86729133,\n",
       "        0.92725265, 1.0120485 , 0.87710124, 1.0889146 , 0.86756086],\n",
       "       [1.2220937 , 0.96642035, 0.9746578 , 1.0424283 , 0.86729133,\n",
       "        0.92725265, 1.0120485 , 0.87710124, 1.0889146 , 0.86756086],\n",
       "       [1.2220937 , 0.96642035, 0.9746578 , 1.0424283 , 0.86729133,\n",
       "        0.92725265, 1.0120485 , 0.87710124, 1.0889146 , 0.86756086]],\n",
       "      dtype=float32)>"
      ]
     },
     "execution_count": 80,
     "metadata": {},
     "output_type": "execute_result"
    }
   ],
   "source": [
    "output"
   ]
  },
  {
   "cell_type": "code",
   "execution_count": 6,
   "id": "f2081264-2c01-4436-beb0-6639e90268f1",
   "metadata": {},
   "outputs": [],
   "source": [
    "from diplomacy_research.utils.tensorflow import rnn_cell_impl\n",
    "enum_map_up_to = rnn_cell_impl._enumerated_map_structure_up_to"
   ]
  },
  {
   "cell_type": "code",
   "execution_count": 128,
   "id": "8c797c73-c422-470a-b13a-0af95240c925",
   "metadata": {},
   "outputs": [],
   "source": [
    "values = np.array([[1,2], [1,2]])"
   ]
  },
  {
   "cell_type": "code",
   "execution_count": 129,
   "id": "dc488b6f-3e21-4202-b005-077bedbb2362",
   "metadata": {},
   "outputs": [],
   "source": [
    "# values = tf.ones(shape=(128, 200)).numpy()"
   ]
  },
  {
   "cell_type": "code",
   "execution_count": 130,
   "id": "0c33ff8d-4bca-4415-89c2-602d3f221ad0",
   "metadata": {},
   "outputs": [],
   "source": [
    "filtered_structure = values"
   ]
  },
  {
   "cell_type": "code",
   "execution_count": 131,
   "id": "126cdd36-4609-4567-a33d-d457f4ea6b00",
   "metadata": {},
   "outputs": [
    {
     "data": {
      "text/plain": [
       "array([[1, 2],\n",
       "       [1, 2]])"
      ]
     },
     "execution_count": 131,
     "metadata": {},
     "output_type": "execute_result"
    }
   ],
   "source": [
    "filtered_structure"
   ]
  },
  {
   "cell_type": "code",
   "execution_count": 132,
   "id": "c67752f7-3465-48fc-a059-c8ed7beed9a5",
   "metadata": {},
   "outputs": [],
   "source": [
    "def func(c, a, b):\n",
    "    return f\"bruh {c} -- {a} -- {b}\""
   ]
  },
  {
   "cell_type": "code",
   "execution_count": 133,
   "id": "d6faf394-7324-4695-bfec-19077d1c4de0",
   "metadata": {},
   "outputs": [
    {
     "data": {
      "text/plain": [
       "'bruh 0 -- [[1 2]\\n [1 2]] -- [[1 2]\\n [1 2]]'"
      ]
     },
     "execution_count": 133,
     "metadata": {},
     "output_type": "execute_result"
    }
   ],
   "source": [
    "enum_map_up_to(values, func, *[values, filtered_structure])"
   ]
  },
  {
   "cell_type": "code",
   "execution_count": null,
   "id": "0742b31e-4047-439c-932c-76d456a8e232",
   "metadata": {},
   "outputs": [],
   "source": []
  },
  {
   "cell_type": "code",
   "execution_count": 5,
   "id": "1b8f1a59-648a-4425-b8be-2ef20b404034",
   "metadata": {},
   "outputs": [],
   "source": [
    "player_seeds = tf.constant([0, 0, 0, 1, 0, 2, 2], dtype = tf.int32)\n",
    "dropout_rates = tf.zeros(shape=(7))"
   ]
  },
  {
   "cell_type": "code",
   "execution_count": 11,
   "id": "4670c2ea-eed2-426d-b44e-4433160277fa",
   "metadata": {},
   "outputs": [
    {
     "data": {
      "text/plain": [
       "<tf.Tensor: id=20, shape=(7,), dtype=int32, numpy=array([1, 1, 1, 2, 1, 3, 3], dtype=int32)>"
      ]
     },
     "execution_count": 11,
     "metadata": {},
     "output_type": "execute_result"
    }
   ],
   "source": [
    "player_seeds + 1"
   ]
  },
  {
   "cell_type": "code",
   "execution_count": 10,
   "id": "5130de9c-480e-420c-aeb6-280b71fb9226",
   "metadata": {},
   "outputs": [
    {
     "data": {
      "text/plain": [
       "Unique(y=<tf.Tensor: id=15, shape=(3,), dtype=int32, numpy=array([0, 1, 2], dtype=int32)>, idx=<tf.Tensor: id=16, shape=(7,), dtype=int32, numpy=array([0, 0, 0, 1, 0, 2, 2], dtype=int32)>)"
      ]
     },
     "execution_count": 10,
     "metadata": {},
     "output_type": "execute_result"
    }
   ],
   "source": []
  },
  {
   "cell_type": "code",
   "execution_count": null,
   "id": "1a8367c8-a13d-448d-8742-b70e8d15be13",
   "metadata": {},
   "outputs": [],
   "source": [
    "player_seeds = tf.random.uniform(\n",
    "    [128],\n",
    "    minval=0,\n",
    "    maxval=2,\n",
    "    dtype=tf.dtypes.int32,\n",
    "    seed=42,\n",
    ")"
   ]
  },
  {
   "cell_type": "code",
   "execution_count": 29,
   "id": "7c3a53f1-9593-4bdc-8813-fc169b177f65",
   "metadata": {},
   "outputs": [
    {
     "data": {
      "text/plain": [
       "<tf.Tensor: id=64, shape=(128,), dtype=int32, numpy=\n",
       "array([1, 0, 1, 1, 1, 0, 1, 0, 0, 1, 0, 1, 1, 0, 1, 0, 0, 1, 0, 1, 1, 1,\n",
       "       0, 1, 0, 0, 1, 0, 0, 0, 0, 1, 0, 1, 0, 0, 0, 0, 0, 0, 0, 0, 1, 0,\n",
       "       0, 0, 0, 1, 1, 1, 0, 0, 1, 0, 1, 0, 0, 1, 0, 1, 0, 0, 0, 1, 0, 0,\n",
       "       1, 1, 1, 0, 0, 0, 1, 1, 1, 1, 1, 0, 1, 0, 0, 1, 0, 1, 1, 0, 0, 1,\n",
       "       1, 1, 1, 0, 1, 1, 1, 0, 1, 0, 1, 0, 1, 1, 1, 1, 0, 0, 0, 1, 1, 0,\n",
       "       0, 1, 0, 0, 1, 1, 0, 1, 1, 0, 0, 0, 1, 1, 0, 0, 0, 1], dtype=int32)>"
      ]
     },
     "execution_count": 29,
     "metadata": {},
     "output_type": "execute_result"
    }
   ],
   "source": [
    "player_seeds"
   ]
  },
  {
   "cell_type": "code",
   "execution_count": 23,
   "id": "919c602a-cd27-49b4-8367-d452f0913beb",
   "metadata": {},
   "outputs": [
    {
     "ename": "AttributeError",
     "evalue": "'tensorflow.python.framework.ops.EagerTensor' object has no attribute 'insert'",
     "output_type": "error",
     "traceback": [
      "\u001b[0;31m---------------------------------------------------------------------------\u001b[0m",
      "\u001b[0;31mAttributeError\u001b[0m                            Traceback (most recent call last)",
      "\u001b[0;32m/tmp/ipykernel_18668/1691657968.py\u001b[0m in \u001b[0;36m<module>\u001b[0;34m\u001b[0m\n\u001b[0;32m----> 1\u001b[0;31m \u001b[0mplayer_seeds\u001b[0m\u001b[0;34m[\u001b[0m\u001b[0;36m0\u001b[0m\u001b[0;34m]\u001b[0m\u001b[0;34m.\u001b[0m\u001b[0minsert\u001b[0m\u001b[0;34m(\u001b[0m\u001b[0;36m2\u001b[0m\u001b[0;34m)\u001b[0m\u001b[0;34m\u001b[0m\u001b[0;34m\u001b[0m\u001b[0m\n\u001b[0m",
      "\u001b[0;31mAttributeError\u001b[0m: 'tensorflow.python.framework.ops.EagerTensor' object has no attribute 'insert'"
     ]
    }
   ],
   "source": [
    "player_seeds[0].insert(2)"
   ]
  },
  {
   "cell_type": "code",
   "execution_count": 6,
   "id": "53e07f0b-1c90-4f5b-b03e-8469bfea8742",
   "metadata": {},
   "outputs": [],
   "source": [
    "decoder_cell = SeededDropoutWrapper(cell=lstm_cell,\n",
    "                                    seeds=player_seeds,\n",
    "                                    input_keep_probs=1. - dropout_rates,\n",
    "                                    output_keep_probs=1. - dropout_rates,\n",
    "                                    variational_recurrent=True,\n",
    "                                    input_size=7,\n",
    "                                    dtype=tf.float32)"
   ]
  },
  {
   "cell_type": "code",
   "execution_count": 7,
   "id": "df2abeb0-784d-48c9-97df-7b7855010260",
   "metadata": {},
   "outputs": [
    {
     "name": "stdout",
     "output_type": "stream",
     "text": [
      "tf.Tensor(\n",
      "[[0.5137526  0.23870096 0.46468195 0.17104298 0.7501834  0.746515\n",
      "  0.81621486]\n",
      " [0.5407327  0.7260785  0.20450804 0.11434726 0.827402   0.27936253\n",
      "  0.6921117 ]\n",
      " [0.2827031  0.6286411  0.05581885 0.93944186 0.15060474 0.13850984\n",
      "  0.36831293]\n",
      " [0.76637125 0.43894675 0.6600114  0.45978346 0.26411387 0.98183614\n",
      "  0.34511364]\n",
      " [0.7580364  0.5973092  0.6511253  0.62861854 0.0562475  0.9312974\n",
      "  0.30534926]\n",
      " [0.7663712  0.43894693 0.6600084  0.45984098 0.26302156 0.00259055\n",
      "  0.9507796 ]\n",
      " [0.7663712  0.43894693 0.6600084  0.45984098 0.26302156 0.00259055\n",
      "  0.9507796 ]], shape=(7, 7), dtype=float32)\n",
      "tf.Tensor([7 7], shape=(2,), dtype=int32)\n"
     ]
    }
   ],
   "source": [
    "print(decoder_cell._recurrent_input_noise)\n",
    "print(tf.shape(decoder_cell._recurrent_input_noise))"
   ]
  },
  {
   "cell_type": "code",
   "execution_count": 8,
   "id": "5c9c06cc-a975-45d7-8964-da2f0bdad86a",
   "metadata": {},
   "outputs": [
    {
     "name": "stdout",
     "output_type": "stream",
     "text": [
      "tf.Tensor(\n",
      "[[0.5884315  0.8198015  0.42377096 ... 0.39512742 0.49257907 0.6409975 ]\n",
      " [0.4639374  0.18518937 0.48140204 ... 0.73964626 0.9467216  0.01228966]\n",
      " [0.6855252  0.97502196 0.4745832  ... 0.6554763  0.5459505  0.6269404 ]\n",
      " ...\n",
      " [0.31320372 0.0491292  0.06654508 ... 0.47173628 0.03701064 0.29679784]\n",
      " [0.26088855 0.04311738 0.18076973 ... 0.6998935  0.7020235  0.6615534 ]\n",
      " [0.26088855 0.04311738 0.18076973 ... 0.6998935  0.7020235  0.6615534 ]], shape=(7, 200), dtype=float32)\n",
      "tf.Tensor([  7 200], shape=(2,), dtype=int32)\n"
     ]
    }
   ],
   "source": [
    "print(decoder_cell._recurrent_output_noise)\n",
    "print(tf.shape(decoder_cell._recurrent_output_noise))"
   ]
  },
  {
   "cell_type": "code",
   "execution_count": 32,
   "id": "dd6d5ff7-eae8-4193-8d2b-fd81f975107a",
   "metadata": {},
   "outputs": [],
   "source": []
  },
  {
   "cell_type": "code",
   "execution_count": 33,
   "id": "5b605a85-d191-4083-bb4e-b3e7f1e9d725",
   "metadata": {},
   "outputs": [],
   "source": []
  },
  {
   "cell_type": "code",
   "execution_count": 15,
   "id": "1c603222-5972-49bd-94b9-e0a5438d1c53",
   "metadata": {},
   "outputs": [],
   "source": [
    "from diplomacy_research.utils.tensorflow import _transpose_batch_time\n",
    "from diplomacy_research.utils.tensorflow import _unstack_ta"
   ]
  },
  {
   "cell_type": "code",
   "execution_count": 44,
   "id": "3024cbcc-d827-4149-b198-611d37f901e7",
   "metadata": {},
   "outputs": [],
   "source": [
    "from diplomacy_research.utils.tensorflow import array_ops"
   ]
  },
  {
   "cell_type": "code",
   "execution_count": 45,
   "id": "d2e255e9-4008-4a6c-b1a4-35988f2ef941",
   "metadata": {},
   "outputs": [],
   "source": [
    "bruh = tf.constant([\n",
    "    [[ 1,  2,  3], [ 1,  2,  3]],\n",
    "    [[10, 11, 12], [ 1,  2,  3]],\n",
    "    [[16, 17, 18], [ 1,  2,  3]]\n",
    "])"
   ]
  },
  {
   "cell_type": "code",
   "execution_count": 47,
   "id": "2ab34f6c-96bb-4724-9883-ffd61aa647f5",
   "metadata": {},
   "outputs": [
    {
     "data": {
      "text/plain": [
       "<tf.Tensor: id=186, shape=(3, 2, 3), dtype=int32, numpy=\n",
       "array([[[ 1,  2,  3],\n",
       "        [ 1,  2,  3]],\n",
       "\n",
       "       [[10, 11, 12],\n",
       "        [ 1,  2,  3]],\n",
       "\n",
       "       [[16, 17, 18],\n",
       "        [ 1,  2,  3]]], dtype=int32)>"
      ]
     },
     "execution_count": 47,
     "metadata": {},
     "output_type": "execute_result"
    }
   ],
   "source": [
    "bruh"
   ]
  },
  {
   "cell_type": "code",
   "execution_count": 46,
   "id": "4d9ced98-39d4-44cc-a4f9-2b6381ed2590",
   "metadata": {},
   "outputs": [
    {
     "data": {
      "text/plain": [
       "<tf.Tensor: id=186, shape=(3, 2, 3), dtype=int32, numpy=\n",
       "array([[[ 1,  2,  3],\n",
       "        [ 1,  2,  3]],\n",
       "\n",
       "       [[10, 11, 12],\n",
       "        [ 1,  2,  3]],\n",
       "\n",
       "       [[16, 17, 18],\n",
       "        [ 1,  2,  3]]], dtype=int32)>"
      ]
     },
     "execution_count": 46,
     "metadata": {},
     "output_type": "execute_result"
    }
   ],
   "source": [
    "array_ops.identity(bruh)"
   ]
  },
  {
   "cell_type": "code",
   "execution_count": 17,
   "id": "1d3a83cf-dcc7-4ac8-9753-02e645843a41",
   "metadata": {},
   "outputs": [
    {
     "name": "stdout",
     "output_type": "stream",
     "text": [
      "tf.Tensor(\n",
      "[[[ 1  2  3]\n",
      "  [ 1  2  3]]\n",
      "\n",
      " [[10 11 12]\n",
      "  [ 1  2  3]]\n",
      "\n",
      " [[16 17 18]\n",
      "  [ 1  2  3]]], shape=(3, 2, 3), dtype=int32)\n"
     ]
    }
   ],
   "source": [
    "print(bruh)"
   ]
  },
  {
   "cell_type": "code",
   "execution_count": 18,
   "id": "8835e597-281a-48e7-8d22-5ee4efc4d26e",
   "metadata": {},
   "outputs": [],
   "source": [
    "x = _transpose_batch_time(bruh)"
   ]
  },
  {
   "cell_type": "code",
   "execution_count": 19,
   "id": "ba570f57-f5af-4bec-adc2-8f0080c53930",
   "metadata": {},
   "outputs": [
    {
     "name": "stdout",
     "output_type": "stream",
     "text": [
      "tf.Tensor(\n",
      "[[[ 1  2  3]\n",
      "  [10 11 12]\n",
      "  [16 17 18]]\n",
      "\n",
      " [[ 1  2  3]\n",
      "  [ 1  2  3]\n",
      "  [ 1  2  3]]], shape=(2, 3, 3), dtype=int32)\n"
     ]
    }
   ],
   "source": [
    "print(x)"
   ]
  },
  {
   "cell_type": "code",
   "execution_count": 20,
   "id": "90c406ce-e92a-4cfb-99b3-1395e513fd89",
   "metadata": {},
   "outputs": [],
   "source": [
    "g = _unstack_ta(x)"
   ]
  },
  {
   "cell_type": "code",
   "execution_count": 21,
   "id": "49d44fc1-7de3-40c5-9abb-35527995c57d",
   "metadata": {},
   "outputs": [
    {
     "data": {
      "text/plain": [
       "<tf.Tensor: id=131, shape=(), dtype=int32, numpy=2>"
      ]
     },
     "execution_count": 21,
     "metadata": {},
     "output_type": "execute_result"
    }
   ],
   "source": [
    "g.size()"
   ]
  },
  {
   "cell_type": "code",
   "execution_count": 23,
   "id": "fe750079-d4e8-4fd4-adeb-03fc40ef704a",
   "metadata": {},
   "outputs": [
    {
     "data": {
      "text/plain": [
       "<tf.Tensor: id=129, shape=(3, 3), dtype=int32, numpy=\n",
       "array([[ 1,  2,  3],\n",
       "       [10, 11, 12],\n",
       "       [16, 17, 18]], dtype=int32)>"
      ]
     },
     "execution_count": 23,
     "metadata": {},
     "output_type": "execute_result"
    }
   ],
   "source": [
    "g.read(0)"
   ]
  },
  {
   "cell_type": "code",
   "execution_count": null,
   "id": "21cd03b7-9c9b-4d52-81c8-21747fc4ef6f",
   "metadata": {},
   "outputs": [],
   "source": []
  },
  {
   "cell_type": "code",
   "execution_count": 108,
   "id": "79c98eac-2cad-426e-ba7a-d2e8b1a0ea35",
   "metadata": {},
   "outputs": [],
   "source": [
    "cell = tf.contrib.rnn.LSTMBlockCell(200)"
   ]
  },
  {
   "cell_type": "code",
   "execution_count": 109,
   "id": "ac642826-ffd6-4400-891c-90774fd12bb8",
   "metadata": {},
   "outputs": [
    {
     "name": "stdout",
     "output_type": "stream",
     "text": [
      "tf.Tensor(\n",
      "[[0. 0. 0. ... 0. 0. 0.]\n",
      " [0. 0. 0. ... 0. 0. 0.]\n",
      " [0. 0. 0. ... 0. 0. 0.]\n",
      " ...\n",
      " [0. 0. 0. ... 0. 0. 0.]\n",
      " [0. 0. 0. ... 0. 0. 0.]\n",
      " [0. 0. 0. ... 0. 0. 0.]], shape=(128, 200), dtype=float32)\n"
     ]
    }
   ],
   "source": [
    "print(cell.zero_state(128, float)[0])"
   ]
  },
  {
   "cell_type": "code",
   "execution_count": 118,
   "id": "9df1f402-3b34-4aef-848a-9b4e0999eb34",
   "metadata": {},
   "outputs": [],
   "source": [
    "from diplomacy_research.utils.tensorflow import math_ops"
   ]
  },
  {
   "cell_type": "code",
   "execution_count": 121,
   "id": "866d03ff-8fb4-4ea4-9d07-933cd09813eb",
   "metadata": {},
   "outputs": [],
   "source": [
    "a = tf.random.uniform(shape=[128, 1, 81])\n",
    "b = tf.random.uniform(shape=[128, 81, 120])"
   ]
  },
  {
   "cell_type": "code",
   "execution_count": 122,
   "id": "cd418a6e-89b0-40d5-b07a-586b9bbf1073",
   "metadata": {},
   "outputs": [
    {
     "data": {
      "text/plain": [
       "<tf.Tensor: id=466, shape=(128, 1, 120), dtype=float32, numpy=\n",
       "array([[[19.383259, 21.408987, 18.56496 , ..., 18.423637, 21.74904 ,\n",
       "         18.488977]],\n",
       "\n",
       "       [[17.560833, 19.754374, 21.891068, ..., 18.670254, 20.508831,\n",
       "         18.745518]],\n",
       "\n",
       "       [[21.16572 , 20.09104 , 23.58803 , ..., 20.126144, 23.200521,\n",
       "         22.395763]],\n",
       "\n",
       "       ...,\n",
       "\n",
       "       [[20.50752 , 20.468699, 22.060888, ..., 23.730959, 21.717173,\n",
       "         21.441353]],\n",
       "\n",
       "       [[21.957153, 21.998652, 19.98428 , ..., 17.20297 , 23.759792,\n",
       "         23.022839]],\n",
       "\n",
       "       [[16.641558, 15.036928, 17.367977, ..., 17.630404, 17.319685,\n",
       "         17.948994]]], dtype=float32)>"
      ]
     },
     "execution_count": 122,
     "metadata": {},
     "output_type": "execute_result"
    }
   ],
   "source": [
    "math_ops.matmul(a, b)"
   ]
  },
  {
   "cell_type": "code",
   "execution_count": null,
   "id": "e9702b0a-be51-407c-b496-d3a965443ad9",
   "metadata": {},
   "outputs": [],
   "source": []
  },
  {
   "cell_type": "code",
   "execution_count": 3,
   "id": "db464941-5851-4ab5-b507-feeba34bce1a",
   "metadata": {},
   "outputs": [],
   "source": [
    "dataset_builder = no_press_all.DatasetBuilder()"
   ]
  },
  {
   "cell_type": "code",
   "execution_count": 4,
   "id": "929c5b63-5f8d-421f-acd2-03dd88c1626c",
   "metadata": {},
   "outputs": [
    {
     "name": "stderr",
     "output_type": "stream",
     "text": [
      "2022-04-24 10:02:01.765787: I tensorflow/core/platform/cpu_feature_guard.cc:141] Your CPU supports instructions that this TensorFlow binary was not compiled to use: AVX2 FMA\n",
      "2022-04-24 10:02:01.770645: I tensorflow/core/platform/profile_utils/cpu_utils.cc:94] CPU Frequency: 2299995000 Hz\n",
      "2022-04-24 10:02:01.771708: I tensorflow/compiler/xla/service/service.cc:150] XLA service 0x556c93554040 executing computations on platform Host. Devices:\n",
      "2022-04-24 10:02:01.771735: I tensorflow/compiler/xla/service/service.cc:158]   StreamExecutor device (0): <undefined>, <undefined>\n"
     ]
    }
   ],
   "source": [
    "training_dataset = tf.data.TFRecordDataset(\"20190501-proto-policy-order_based-no_press_all.train.pbz\",\n",
    "                                                        compression_type='GZIP')"
   ]
  },
  {
   "cell_type": "code",
   "execution_count": 5,
   "id": "7f3aff21-9da8-487c-9d3c-15ab7050bbeb",
   "metadata": {},
   "outputs": [],
   "source": [
    "# training_dataset = training_dataset.shuffle(100)"
   ]
  },
  {
   "cell_type": "code",
   "execution_count": 6,
   "id": "8e8a7cdf-a6e8-4be8-8850-989e3e4e8986",
   "metadata": {},
   "outputs": [],
   "source": [
    "training_dataset = training_dataset.map(dataset_builder.parse_function, num_parallel_calls=2)"
   ]
  },
  {
   "cell_type": "code",
   "execution_count": 7,
   "id": "9049ca68-d144-49ec-a54a-118192bedf0a",
   "metadata": {},
   "outputs": [
    {
     "data": {
      "text/plain": [
       "{'request_id': [],\n",
       " 'player_seed': [],\n",
       " 'board_state': [81, 35],\n",
       " 'board_alignments': [None],\n",
       " 'prev_orders_state': [1, 81, 40],\n",
       " 'decoder_inputs': [None],\n",
       " 'decoder_lengths': [],\n",
       " 'candidates': [None],\n",
       " 'noise': [],\n",
       " 'temperature': [],\n",
       " 'dropout_rate': [],\n",
       " 'current_power': [],\n",
       " 'current_season': [],\n",
       " 'draw_target': [],\n",
       " 'value_target': []}"
      ]
     },
     "execution_count": 7,
     "metadata": {},
     "output_type": "execute_result"
    }
   ],
   "source": [
    "dataset_builder.output_shapes"
   ]
  },
  {
   "cell_type": "code",
   "execution_count": 8,
   "id": "475d766d-e4e0-4d78-8ea5-4e371e952bd6",
   "metadata": {},
   "outputs": [],
   "source": [
    "# training_dataset = training_dataset.prefetch(100)"
   ]
  },
  {
   "cell_type": "code",
   "execution_count": 9,
   "id": "e1582a18-8cfa-4cb1-ad2b-5c552ffe9a85",
   "metadata": {},
   "outputs": [],
   "source": [
    "proto_fields = dataset_builder.parse_sparse_fields(dataset_builder.proto_fields)"
   ]
  },
  {
   "cell_type": "code",
   "execution_count": 10,
   "id": "3f0be90f-9a38-415c-b34e-0ab97d4767f7",
   "metadata": {},
   "outputs": [],
   "source": [
    "training_dataset = training_dataset.padded_batch(2, dataset_builder.padded_shapes)"
   ]
  },
  {
   "cell_type": "code",
   "execution_count": 11,
   "id": "c2612173-2af6-482d-981a-7c1df04db30f",
   "metadata": {},
   "outputs": [
    {
     "name": "stdout",
     "output_type": "stream",
     "text": [
      "WARNING:tensorflow:From /opt/conda/envs/diplomacy/lib/python3.7/site-packages/tensorflow/python/data/ops/iterator_ops.py:532: colocate_with (from tensorflow.python.framework.ops) is deprecated and will be removed in a future version.\n",
      "Instructions for updating:\n",
      "Colocations handled automatically by placer.\n"
     ]
    },
    {
     "name": "stderr",
     "output_type": "stream",
     "text": [
      "WARNING:tensorflow:From /opt/conda/envs/diplomacy/lib/python3.7/site-packages/tensorflow/python/data/ops/iterator_ops.py:532: colocate_with (from tensorflow.python.framework.ops) is deprecated and will be removed in a future version.\n",
      "Instructions for updating:\n",
      "Colocations handled automatically by placer.\n"
     ]
    },
    {
     "name": "stdout",
     "output_type": "stream",
     "text": [
      "tf.Tensor([3 3], shape=(2,), dtype=int32)\n",
      "tf.Tensor([3 3], shape=(2,), dtype=int32)\n",
      "tf.Tensor([3 1], shape=(2,), dtype=int32)\n",
      "tf.Tensor([6 4], shape=(2,), dtype=int32)\n",
      "tf.Tensor([6 4], shape=(2,), dtype=int32)\n"
     ]
    }
   ],
   "source": [
    "i = 0\n",
    "for element in training_dataset:\n",
    "    # print(element)\n",
    "    # print(element.keys())\n",
    "    # print(element[\"request_id\"])\n",
    "    # print(element[\"player_seed\"])\n",
    "    # print(element[\"board_state\"])\n",
    "    # print(element[\"board_alignments\"])\n",
    "    # print(element[\"prev_orders_state\"])\n",
    "    # print(element[\"decoder_inputs\"])\n",
    "    print(element[\"decoder_lengths\"])\n",
    "    # print(element[\"candidates\"])\n",
    "    # print(element[\"noise\"])\n",
    "    # print(element[\"temperature\"])\n",
    "    # print(element[\"dropout_rate\"])\n",
    "    # print(element[\"current_power\"])\n",
    "    # print(element[\"current_season\"])\n",
    "    # print(element[\"draw_target\"])\n",
    "    # print(element[\"value_target\"])\n",
    "    # print(\"****\")\n",
    "    \n",
    "    # print(element[\"candidates\"])\n",
    "    \n",
    "    if (i == 4):\n",
    "        break\n",
    "    i+=1"
   ]
  },
  {
   "cell_type": "markdown",
   "id": "b03f2906-aa1e-4a1a-8965-898e3c3af6a4",
   "metadata": {},
   "source": [
    "#### Model"
   ]
  },
  {
   "cell_type": "code",
   "execution_count": 1,
   "id": "0e19f9ea-52c2-4d7b-a225-c6d7a24b3ef7",
   "metadata": {},
   "outputs": [
    {
     "name": "stderr",
     "output_type": "stream",
     "text": [
      "WARNING:root:The PROTOCOL_BUFFERS_PYTHON_IMPLEMENTATION variable should be set to \"cpp\".\n"
     ]
    },
    {
     "name": "stdout",
     "output_type": "stream",
     "text": [
      "2022-03-30 08:02:02,844 - diplomacy_research.utils.tensorflow - INFO - TensorFlow has been successfully loaded.\n"
     ]
    }
   ],
   "source": [
    "from diplomacy_research.utils.model import load_dynamically_from_model_id, load_dataset_builder\n",
    "from diplomacy_research.models.training.supervised import SupervisedTrainer\n",
    "from diplomacy_research.models.policy.order_based import PolicyAdapter\n",
    "from diplomacy_research.utils.model import parse_args_into_flags,load_dataset_builder\n",
    "from diplomacy_research.settings import ROOT_DIR\n",
    "from diplomacy_research.utils.cluster import start_distributed_training\n",
    "from diplomacy_research.utils.cluster_config.supervised import get_cluster_config\n",
    "import argparse\n",
    "import os\n",
    "from diplomacy_research.utils.tensorflow import tf"
   ]
  },
  {
   "cell_type": "code",
   "execution_count": 2,
   "id": "035da7fe-4883-447e-873f-56e50c3c1722",
   "metadata": {},
   "outputs": [],
   "source": [
    "tf.enable_eager_execution()"
   ]
  },
  {
   "cell_type": "code",
   "execution_count": 3,
   "id": "4d984949-c5ec-4dd7-8b0d-22779a39e6e2",
   "metadata": {},
   "outputs": [
    {
     "name": "stdout",
     "output_type": "stream",
     "text": [
      "2022-03-30 08:02:04,745 - diplomacy_research.utils.model - INFO - Loading class: diplomacy_research.models.policy.order_based.v012_film_diff_w_board_align_prev_ord.PolicyModel\n",
      "2022-03-30 08:02:04,747 - diplomacy_research.utils.model - INFO - Loading class: diplomacy_research.models.policy.order_based.v012_film_diff_w_board_align_prev_ord.load_args\n"
     ]
    }
   ],
   "source": [
    "PolicyModel, load_args = load_dynamically_from_model_id(\n",
    "    ['PolicyModel', 'load_args'],\n",
    "    base_dir = \"/home/jupyter/rl_ppaquette/diplomacy_research/models/policy/order_based\",\n",
    "    arg_name='model_id', model_id = 12) \n",
    "\n",
    "\n",
    "# Detecting ValueModel, and load_args\n",
    "ValueModel, load_value_args = load_dynamically_from_model_id(['ValueModel', 'load_args'],                         \n",
    "                                                             arg_name='value_model_id',\n",
    "                                                             model_id = 12,\n",
    "                                                             base_dir=os.path.join(ROOT_DIR, 'models', 'value'),\n",
    "                                                             on_error='ignore')\n",
    "\n",
    "# Detecting DrawModel, and load_args\n",
    "DrawModel, load_draw_args = load_dynamically_from_model_id(['DrawModel', 'load_args'],                           \n",
    "                                                           arg_name='draw_model_id',\n",
    "                                                           model_id= 12,\n",
    "                                                           base_dir=os.path.join(ROOT_DIR, 'models', 'draw'),\n",
    "                                                           on_error='ignore')"
   ]
  },
  {
   "cell_type": "code",
   "execution_count": 4,
   "id": "14c22dea-3b03-49ef-ad9b-4f9f954d4fb0",
   "metadata": {},
   "outputs": [],
   "source": [
    "# load_args()"
   ]
  },
  {
   "cell_type": "code",
   "execution_count": 5,
   "id": "6a493c12-d74a-4c4c-9602-d01b50512f54",
   "metadata": {},
   "outputs": [],
   "source": [
    "FLAGS = argparse.Namespace(\n",
    "    allow_gpu_growth=False,\n",
    "    attn_size=120,\n",
    "    avg_gradients=False,\n",
    "    batch_size=128,\n",
    "    beam_groups=5,\n",
    "    beam_width=10,\n",
    "    config='config.yaml',\n",
    "    config_section='',\n",
    "    dataset='no_press_all',\n",
    "    debug=False,\n",
    "    debug_batch=False,\n",
    "    debug_nb_cpu_workers=0,\n",
    "    dropout_rate=0.5,\n",
    "    early_stopping_stop_after=5,\n",
    "    gcn_size=120, gpu_id=-1,\n",
    "    grad_aggregation='ADD_N',\n",
    "    gradient_checkpoint='',\n",
    "    grpc_port=2200,\n",
    "    learning_rate=0.001,\n",
    "    lr_decay_factor=0.93,\n",
    "    lstm_size=200, \n",
    "    max_gradient_norm=5.0,\n",
    "    min_nb_param_servers=0,\n",
    "    model_id=12,\n",
    "    nb_graph_conv=16,\n",
    "    nb_param_servers=3, \n",
    "    order_emb_size=80,\n",
    "    perc_epoch_for_training=1.0,\n",
    "    policy_coeff=1.0, \n",
    "    power_emb_size=60, \n",
    "    profile='',\n",
    "    save_dir='/home/jupyter/rl_ppaquette/test_setup/2022-03-30_saved_supervised',\n",
    "    season_emb_size=20,\n",
    "    swap_memory=False,\n",
    "    sync_gradients=True,\n",
    "    training_mode='supervised',\n",
    "    use_partitioner=False,\n",
    "    use_v_dropout=True,\n",
    "    use_verbs=False,\n",
    "    use_xla=True)"
   ]
  },
  {
   "cell_type": "code",
   "execution_count": 6,
   "id": "53a8113e-d986-4b6a-ac92-0b033a3a214b",
   "metadata": {},
   "outputs": [
    {
     "name": "stdout",
     "output_type": "stream",
     "text": [
      "2022-03-30 08:02:06,026 - diplomacy_research.utils.model - INFO - Loading dataset \"no_press_all\" using diplomacy_research.models.policy.order_based.dataset.no_press_all.DatasetBuilder\n"
     ]
    }
   ],
   "source": [
    "dataset = load_dataset_builder(FLAGS.dataset, base_dir=\"/home/jupyter/rl_ppaquette/diplomacy_research/models/policy/order_based\")"
   ]
  },
  {
   "cell_type": "code",
   "execution_count": 7,
   "id": "bb2056b9-43d8-4cf6-8feb-31d0f0d8b61f",
   "metadata": {},
   "outputs": [],
   "source": [
    "def get_trainer(cluster_config, _):\n",
    "    SupervisedTrainer(policy_constructor=PolicyModel,\n",
    "    value_constructor=None,\n",
    "                          draw_constructor=None,\n",
    "                          dataset_builder = dataset(),\n",
    "                          adapter_constructor=PolicyAdapter,\n",
    "                          cluster_config=cluster_config,\n",
    "                          flags=FLAGS).start()"
   ]
  },
  {
   "cell_type": "code",
   "execution_count": 8,
   "id": "1a0cbe81-4d9d-4850-bff3-8269081dbb05",
   "metadata": {},
   "outputs": [
    {
     "name": "stdout",
     "output_type": "stream",
     "text": [
      "2022-03-30 08:02:06,928 - diplomacy_research.utils.cluster - INFO - Received command line arguments: /opt/conda/envs/diplomacy/lib/python3.7/site-packages/ipykernel_launcher.py -f /home/jupyter/.local/share/jupyter/runtime/kernel-ba9292aa-e97d-4e5d-879d-751b4437c6d9.json\n",
      "2022-03-30 08:02:06,929 - diplomacy_research.utils.cluster - INFO - CUDA_VISIBLE_DEVICE: <Not set>\n",
      "2022-03-30 08:02:06,930 - diplomacy_research.utils.model - INFO - ----------------------------------------\n",
      "2022-03-30 08:02:06,931 - diplomacy_research.utils.model - INFO - Commit Hash: 6f6b4bd --- *** GIT WORKING TREE IS DIRTY ***\n",
      "2022-03-30 08:02:06,932 - diplomacy_research.utils.model - INFO - ----------------------------------------\n",
      "2022-03-30 08:02:06,932 - diplomacy_research.utils.model - INFO - Flag allow_gpu_growth: False\n",
      "2022-03-30 08:02:06,933 - diplomacy_research.utils.model - INFO - Flag attn_size: 120\n",
      "2022-03-30 08:02:06,933 - diplomacy_research.utils.model - INFO - Flag avg_gradients: False\n",
      "2022-03-30 08:02:06,934 - diplomacy_research.utils.model - INFO - Flag batch_size: 128\n",
      "2022-03-30 08:02:06,935 - diplomacy_research.utils.model - INFO - Flag beam_groups: 5\n",
      "2022-03-30 08:02:06,935 - diplomacy_research.utils.model - INFO - Flag beam_width: 10\n",
      "2022-03-30 08:02:06,936 - diplomacy_research.utils.model - INFO - Flag config: config.yaml\n",
      "2022-03-30 08:02:06,936 - diplomacy_research.utils.model - INFO - Flag config_section: \n",
      "2022-03-30 08:02:06,937 - diplomacy_research.utils.model - INFO - Flag dataset: no_press_all\n",
      "2022-03-30 08:02:06,937 - diplomacy_research.utils.model - INFO - Flag debug: False\n",
      "2022-03-30 08:02:06,938 - diplomacy_research.utils.model - INFO - Flag debug_batch: False\n",
      "2022-03-30 08:02:06,939 - diplomacy_research.utils.model - INFO - Flag debug_nb_cpu_workers: 0\n",
      "2022-03-30 08:02:06,939 - diplomacy_research.utils.model - INFO - Flag dropout_rate: 0.5\n",
      "2022-03-30 08:02:06,940 - diplomacy_research.utils.model - INFO - Flag early_stopping_stop_after: 5\n",
      "2022-03-30 08:02:06,941 - diplomacy_research.utils.model - INFO - Flag gcn_size: 120\n",
      "2022-03-30 08:02:06,941 - diplomacy_research.utils.model - INFO - Flag gpu_id: -1\n",
      "2022-03-30 08:02:06,942 - diplomacy_research.utils.model - INFO - Flag grad_aggregation: ADD_N\n",
      "2022-03-30 08:02:06,942 - diplomacy_research.utils.model - INFO - Flag gradient_checkpoint: \n",
      "2022-03-30 08:02:06,943 - diplomacy_research.utils.model - INFO - Flag grpc_port: 2200\n",
      "2022-03-30 08:02:06,943 - diplomacy_research.utils.model - INFO - Flag learning_rate: 0.001\n",
      "2022-03-30 08:02:06,944 - diplomacy_research.utils.model - INFO - Flag lr_decay_factor: 0.93\n",
      "2022-03-30 08:02:06,944 - diplomacy_research.utils.model - INFO - Flag lstm_size: 200\n",
      "2022-03-30 08:02:06,947 - diplomacy_research.utils.model - INFO - Flag max_gradient_norm: 5.0\n",
      "2022-03-30 08:02:06,948 - diplomacy_research.utils.model - INFO - Flag min_nb_param_servers: 0\n",
      "2022-03-30 08:02:06,948 - diplomacy_research.utils.model - INFO - Flag model_id: 12\n",
      "2022-03-30 08:02:06,949 - diplomacy_research.utils.model - INFO - Flag nb_graph_conv: 16\n",
      "2022-03-30 08:02:06,950 - diplomacy_research.utils.model - INFO - Flag nb_param_servers: 3\n",
      "2022-03-30 08:02:06,950 - diplomacy_research.utils.model - INFO - Flag order_emb_size: 80\n",
      "2022-03-30 08:02:06,951 - diplomacy_research.utils.model - INFO - Flag perc_epoch_for_training: 1.0\n",
      "2022-03-30 08:02:06,951 - diplomacy_research.utils.model - INFO - Flag policy_coeff: 1.0\n",
      "2022-03-30 08:02:06,952 - diplomacy_research.utils.model - INFO - Flag power_emb_size: 60\n",
      "2022-03-30 08:02:06,952 - diplomacy_research.utils.model - INFO - Flag profile: \n",
      "2022-03-30 08:02:06,953 - diplomacy_research.utils.model - INFO - Flag save_dir: /home/jupyter/rl_ppaquette/test_setup/2022-03-30_saved_supervised\n",
      "2022-03-30 08:02:06,953 - diplomacy_research.utils.model - INFO - Flag season_emb_size: 20\n",
      "2022-03-30 08:02:06,954 - diplomacy_research.utils.model - INFO - Flag swap_memory: False\n",
      "2022-03-30 08:02:06,954 - diplomacy_research.utils.model - INFO - Flag sync_gradients: True\n",
      "2022-03-30 08:02:06,955 - diplomacy_research.utils.model - INFO - Flag training_mode: supervised\n",
      "2022-03-30 08:02:06,955 - diplomacy_research.utils.model - INFO - Flag use_partitioner: False\n",
      "2022-03-30 08:02:06,956 - diplomacy_research.utils.model - INFO - Flag use_v_dropout: True\n",
      "2022-03-30 08:02:06,958 - diplomacy_research.utils.model - INFO - Flag use_verbs: False\n",
      "2022-03-30 08:02:06,958 - diplomacy_research.utils.model - INFO - Flag use_xla: True\n",
      "2022-03-30 08:02:06,959 - diplomacy_research.utils.model - INFO - ----------------------------------------\n",
      "2022-03-30 08:02:06,960 - diplomacy_research.utils.cluster - INFO - Launching non-distributed training loop.\n",
      "BUILDING THE DATASET!!!!\n",
      "printing types/shapes/classes\n",
      "<dtype: 'string'>\n",
      "()\n",
      "<class 'tensorflow.python.framework.ops.Tensor'>\n",
      "I'm NOT IN debug batch\n",
      "I'm NOT sharding the dataset\n",
      "<bound method BaseBuilder.parse_function of <diplomacy_research.models.policy.order_based.dataset.no_press_all.DatasetBuilder object at 0x7fc3887ce490>>\n"
     ]
    },
    {
     "name": "stderr",
     "output_type": "stream",
     "text": [
      "2022-03-30 08:02:06.962554: I tensorflow/core/platform/cpu_feature_guard.cc:141] Your CPU supports instructions that this TensorFlow binary was not compiled to use: AVX2 FMA\n",
      "2022-03-30 08:02:06.967960: I tensorflow/core/platform/profile_utils/cpu_utils.cc:94] CPU Frequency: 2299995000 Hz\n",
      "2022-03-30 08:02:06.969276: I tensorflow/compiler/xla/service/service.cc:150] XLA service 0x55e7d586ab60 executing computations on platform Host. Devices:\n",
      "2022-03-30 08:02:06.969310: I tensorflow/compiler/xla/service/service.cc:158]   StreamExecutor device (0): <undefined>, <undefined>\n"
     ]
    },
    {
     "ename": "FailedPreconditionError",
     "evalue": "GetNext() failed because the iterator has not been initialized. Ensure that you have run the initializer operation for this iterator before getting the next element. [Op:IteratorGetNext]",
     "output_type": "error",
     "traceback": [
      "\u001b[0;31m---------------------------------------------------------------------------\u001b[0m",
      "\u001b[0;31mFailedPreconditionError\u001b[0m                   Traceback (most recent call last)",
      "\u001b[0;32m/tmp/ipykernel_3682/442693200.py\u001b[0m in \u001b[0;36m<module>\u001b[0;34m\u001b[0m\n\u001b[1;32m      2\u001b[0m                            \u001b[0mflags\u001b[0m\u001b[0;34m=\u001b[0m\u001b[0mFLAGS\u001b[0m\u001b[0;34m,\u001b[0m\u001b[0;34m\u001b[0m\u001b[0;34m\u001b[0m\u001b[0m\n\u001b[1;32m      3\u001b[0m                            \u001b[0mget_cluster_config_fn\u001b[0m\u001b[0;34m=\u001b[0m\u001b[0mget_cluster_config\u001b[0m\u001b[0;34m,\u001b[0m\u001b[0;34m\u001b[0m\u001b[0;34m\u001b[0m\u001b[0m\n\u001b[0;32m----> 4\u001b[0;31m                            with_process_pool=False)\n\u001b[0m",
      "\u001b[0;32m~/rl_ppaquette/diplomacy_research/utils/cluster.py\u001b[0m in \u001b[0;36mstart_distributed_training\u001b[0;34m(callable_fn, flags, get_cluster_config_fn, with_process_pool)\u001b[0m\n\u001b[1;32m    104\u001b[0m     \u001b[0;32mif\u001b[0m \u001b[0mnb_gpus\u001b[0m \u001b[0;34m<=\u001b[0m \u001b[0;36m1\u001b[0m \u001b[0;32mand\u001b[0m \u001b[0;32mnot\u001b[0m \u001b[0mflags\u001b[0m\u001b[0;34m.\u001b[0m\u001b[0mdebug_nb_cpu_workers\u001b[0m\u001b[0;34m:\u001b[0m\u001b[0;34m\u001b[0m\u001b[0;34m\u001b[0m\u001b[0m\n\u001b[1;32m    105\u001b[0m         \u001b[0mLOGGER\u001b[0m\u001b[0;34m.\u001b[0m\u001b[0minfo\u001b[0m\u001b[0;34m(\u001b[0m\u001b[0;34m'Launching non-distributed training loop.'\u001b[0m\u001b[0;34m)\u001b[0m\u001b[0;34m\u001b[0m\u001b[0;34m\u001b[0m\u001b[0m\n\u001b[0;32m--> 106\u001b[0;31m         \u001b[0mcallable_fn\u001b[0m\u001b[0;34m(\u001b[0m\u001b[0mcluster_config\u001b[0m\u001b[0;34m,\u001b[0m \u001b[0mprocess_pool\u001b[0m\u001b[0;34m)\u001b[0m\u001b[0;34m\u001b[0m\u001b[0;34m\u001b[0m\u001b[0m\n\u001b[0m\u001b[1;32m    107\u001b[0m         \u001b[0;32mreturn\u001b[0m\u001b[0;34m\u001b[0m\u001b[0;34m\u001b[0m\u001b[0m\n\u001b[1;32m    108\u001b[0m \u001b[0;34m\u001b[0m\u001b[0m\n",
      "\u001b[0;32m/tmp/ipykernel_3682/357827267.py\u001b[0m in \u001b[0;36mget_trainer\u001b[0;34m(cluster_config, _)\u001b[0m\n\u001b[1;32m      6\u001b[0m                           \u001b[0madapter_constructor\u001b[0m\u001b[0;34m=\u001b[0m\u001b[0mPolicyAdapter\u001b[0m\u001b[0;34m,\u001b[0m\u001b[0;34m\u001b[0m\u001b[0;34m\u001b[0m\u001b[0m\n\u001b[1;32m      7\u001b[0m                           \u001b[0mcluster_config\u001b[0m\u001b[0;34m=\u001b[0m\u001b[0mcluster_config\u001b[0m\u001b[0;34m,\u001b[0m\u001b[0;34m\u001b[0m\u001b[0;34m\u001b[0m\u001b[0m\n\u001b[0;32m----> 8\u001b[0;31m                           flags=FLAGS).start()\n\u001b[0m",
      "\u001b[0;32m~/rl_ppaquette/diplomacy_research/models/training/supervised/trainer.py\u001b[0m in \u001b[0;36mstart\u001b[0;34m(self)\u001b[0m\n\u001b[1;32m    146\u001b[0m \u001b[0;34m\u001b[0m\u001b[0m\n\u001b[1;32m    147\u001b[0m         \u001b[0;32mif\u001b[0m \u001b[0;32mnot\u001b[0m \u001b[0mself\u001b[0m\u001b[0;34m.\u001b[0m\u001b[0mcluster_config\u001b[0m\u001b[0;34m:\u001b[0m\u001b[0;34m\u001b[0m\u001b[0;34m\u001b[0m\u001b[0m\n\u001b[0;32m--> 148\u001b[0;31m             \u001b[0mstart_standalone_training\u001b[0m\u001b[0;34m(\u001b[0m\u001b[0mself\u001b[0m\u001b[0;34m)\u001b[0m\u001b[0;34m\u001b[0m\u001b[0;34m\u001b[0m\u001b[0m\n\u001b[0m\u001b[1;32m    149\u001b[0m         \u001b[0;32melse\u001b[0m\u001b[0;34m:\u001b[0m\u001b[0;34m\u001b[0m\u001b[0;34m\u001b[0m\u001b[0m\n\u001b[1;32m    150\u001b[0m             \u001b[0mstart_distributed_training\u001b[0m\u001b[0;34m(\u001b[0m\u001b[0mself\u001b[0m\u001b[0;34m)\u001b[0m\u001b[0;34m\u001b[0m\u001b[0;34m\u001b[0m\u001b[0m\n",
      "\u001b[0;32m~/rl_ppaquette/diplomacy_research/models/training/supervised/standalone.py\u001b[0m in \u001b[0;36mstart_standalone_training\u001b[0;34m(trainer)\u001b[0m\n\u001b[1;32m     38\u001b[0m \u001b[0;34m\u001b[0m\u001b[0m\n\u001b[1;32m     39\u001b[0m     \u001b[0;31m# Builds the model and the dataset\u001b[0m\u001b[0;34m\u001b[0m\u001b[0;34m\u001b[0m\u001b[0;34m\u001b[0m\u001b[0m\n\u001b[0;32m---> 40\u001b[0;31m     \u001b[0mbuild_model_and_dataset\u001b[0m\u001b[0;34m(\u001b[0m\u001b[0mtrainer\u001b[0m\u001b[0;34m)\u001b[0m\u001b[0;34m\u001b[0m\u001b[0;34m\u001b[0m\u001b[0m\n\u001b[0m\u001b[1;32m     41\u001b[0m     \u001b[0mbuild_summaries\u001b[0m\u001b[0;34m(\u001b[0m\u001b[0mtrainer\u001b[0m\u001b[0;34m)\u001b[0m\u001b[0;34m\u001b[0m\u001b[0;34m\u001b[0m\u001b[0m\n\u001b[1;32m     42\u001b[0m     \u001b[0mbuild_config_proto\u001b[0m\u001b[0;34m(\u001b[0m\u001b[0mtrainer\u001b[0m\u001b[0;34m)\u001b[0m\u001b[0;34m\u001b[0m\u001b[0;34m\u001b[0m\u001b[0m\n",
      "\u001b[0;32m~/rl_ppaquette/diplomacy_research/models/training/supervised/common.py\u001b[0m in \u001b[0;36mbuild_model_and_dataset\u001b[0;34m(trainer)\u001b[0m\n\u001b[1;32m     87\u001b[0m                                                    \u001b[0mdebug_batch\u001b[0m\u001b[0;34m=\u001b[0m\u001b[0mtrainer\u001b[0m\u001b[0;34m.\u001b[0m\u001b[0mflags\u001b[0m\u001b[0;34m.\u001b[0m\u001b[0mdebug_batch\u001b[0m\u001b[0;34m,\u001b[0m\u001b[0;34m\u001b[0m\u001b[0;34m\u001b[0m\u001b[0m\n\u001b[1;32m     88\u001b[0m                                                    \u001b[0mdo_infinite_training\u001b[0m\u001b[0;34m=\u001b[0m\u001b[0mtrainer\u001b[0m\u001b[0;34m.\u001b[0m\u001b[0mflags\u001b[0m\u001b[0;34m.\u001b[0m\u001b[0muse_verbs\u001b[0m\u001b[0;34m,\u001b[0m\u001b[0;34m\u001b[0m\u001b[0;34m\u001b[0m\u001b[0m\n\u001b[0;32m---> 89\u001b[0;31m                                                    perc_epoch_for_training=trainer.flags.perc_epoch_for_training)\n\u001b[0m\u001b[1;32m     90\u001b[0m \u001b[0;34m\u001b[0m\u001b[0m\n\u001b[1;32m     91\u001b[0m     \u001b[0;31m# Policy Model\u001b[0m\u001b[0;34m\u001b[0m\u001b[0;34m\u001b[0m\u001b[0;34m\u001b[0m\u001b[0m\n",
      "\u001b[0;32m~/rl_ppaquette/diplomacy_research/models/datasets/supervised_dataset.py\u001b[0m in \u001b[0;36m__init__\u001b[0;34m(self, batch_size, dataset_builder, checkpoint_dir, cluster_config, debug_batch, no_iterator, do_infinite_training, perc_epoch_for_training)\u001b[0m\n\u001b[1;32m     99\u001b[0m \u001b[0;34m\u001b[0m\u001b[0m\n\u001b[1;32m    100\u001b[0m         \u001b[0;31m# Building the datasets\u001b[0m\u001b[0;34m\u001b[0m\u001b[0;34m\u001b[0m\u001b[0;34m\u001b[0m\u001b[0m\n\u001b[0;32m--> 101\u001b[0;31m         \u001b[0mself\u001b[0m\u001b[0;34m.\u001b[0m\u001b[0mbuild\u001b[0m\u001b[0;34m(\u001b[0m\u001b[0;34m)\u001b[0m\u001b[0;34m\u001b[0m\u001b[0;34m\u001b[0m\u001b[0m\n\u001b[0m\u001b[1;32m    102\u001b[0m \u001b[0;34m\u001b[0m\u001b[0m\n\u001b[1;32m    103\u001b[0m     \u001b[0;34m@\u001b[0m\u001b[0mproperty\u001b[0m\u001b[0;34m\u001b[0m\u001b[0;34m\u001b[0m\u001b[0m\n",
      "\u001b[0;32m~/rl_ppaquette/diplomacy_research/models/datasets/supervised_dataset.py\u001b[0m in \u001b[0;36mbuild\u001b[0;34m(self)\u001b[0m\n\u001b[1;32m    274\u001b[0m         \u001b[0;31m# Creating iterator (with a new iterator_resource), unless specified otherwise\u001b[0m\u001b[0;34m\u001b[0m\u001b[0;34m\u001b[0m\u001b[0;34m\u001b[0m\u001b[0m\n\u001b[1;32m    275\u001b[0m         \u001b[0;32mif\u001b[0m \u001b[0;32mnot\u001b[0m \u001b[0mself\u001b[0m\u001b[0;34m.\u001b[0m\u001b[0mno_iterator\u001b[0m\u001b[0;34m:\u001b[0m\u001b[0;34m\u001b[0m\u001b[0;34m\u001b[0m\u001b[0m\n\u001b[0;32m--> 276\u001b[0;31m             \u001b[0mself\u001b[0m\u001b[0;34m.\u001b[0m\u001b[0mcreate_iterator\u001b[0m\u001b[0;34m(\u001b[0m\u001b[0;34m)\u001b[0m\u001b[0;34m\u001b[0m\u001b[0;34m\u001b[0m\u001b[0m\n\u001b[0m\u001b[1;32m    277\u001b[0m \u001b[0;34m\u001b[0m\u001b[0m\n\u001b[1;32m    278\u001b[0m     \u001b[0;32mdef\u001b[0m \u001b[0mcreate_iterator\u001b[0m\u001b[0;34m(\u001b[0m\u001b[0mself\u001b[0m\u001b[0;34m,\u001b[0m \u001b[0miterator_resource\u001b[0m\u001b[0;34m=\u001b[0m\u001b[0;32mNone\u001b[0m\u001b[0;34m,\u001b[0m \u001b[0mshared_name\u001b[0m\u001b[0;34m=\u001b[0m\u001b[0;32mNone\u001b[0m\u001b[0;34m,\u001b[0m \u001b[0mfeatures\u001b[0m\u001b[0;34m=\u001b[0m\u001b[0;32mNone\u001b[0m\u001b[0;34m)\u001b[0m\u001b[0;34m:\u001b[0m\u001b[0;34m\u001b[0m\u001b[0;34m\u001b[0m\u001b[0m\n",
      "\u001b[0;32m~/rl_ppaquette/diplomacy_research/models/datasets/supervised_dataset.py\u001b[0m in \u001b[0;36mcreate_iterator\u001b[0;34m(self, iterator_resource, shared_name, features)\u001b[0m\n\u001b[1;32m    318\u001b[0m                                                                 \u001b[0moutput_classes\u001b[0m\u001b[0;34m=\u001b[0m\u001b[0moutput_classes\u001b[0m\u001b[0;34m,\u001b[0m\u001b[0;34m\u001b[0m\u001b[0;34m\u001b[0m\u001b[0m\n\u001b[1;32m    319\u001b[0m                                                                 shared_name=shared_name)\n\u001b[0;32m--> 320\u001b[0;31m                 \u001b[0mself\u001b[0m\u001b[0;34m.\u001b[0m\u001b[0moutput_features\u001b[0m \u001b[0;34m=\u001b[0m \u001b[0mself\u001b[0m\u001b[0;34m.\u001b[0m\u001b[0miterator\u001b[0m\u001b[0;34m.\u001b[0m\u001b[0mget_next\u001b[0m\u001b[0;34m(\u001b[0m\u001b[0;34m)\u001b[0m\u001b[0;34m\u001b[0m\u001b[0;34m\u001b[0m\u001b[0m\n\u001b[0m\u001b[1;32m    321\u001b[0m \u001b[0;34m\u001b[0m\u001b[0m\n\u001b[1;32m    322\u001b[0m             \u001b[0;31m# Generating init op for each dataset\u001b[0m\u001b[0;34m\u001b[0m\u001b[0;34m\u001b[0m\u001b[0;34m\u001b[0m\u001b[0m\n",
      "\u001b[0;32m/opt/conda/envs/diplomacy/lib/python3.7/site-packages/tensorflow/python/data/ops/iterator_ops.py\u001b[0m in \u001b[0;36mget_next\u001b[0;34m(self, name)\u001b[0m\n\u001b[1;32m    412\u001b[0m         \u001b[0mself\u001b[0m\u001b[0;34m.\u001b[0m\u001b[0m_iterator_resource\u001b[0m\u001b[0;34m,\u001b[0m\u001b[0;34m\u001b[0m\u001b[0;34m\u001b[0m\u001b[0m\n\u001b[1;32m    413\u001b[0m         \u001b[0moutput_types\u001b[0m\u001b[0;34m=\u001b[0m\u001b[0mself\u001b[0m\u001b[0;34m.\u001b[0m\u001b[0m_structure\u001b[0m\u001b[0;34m.\u001b[0m\u001b[0m_flat_types\u001b[0m\u001b[0;34m,\u001b[0m\u001b[0;34m\u001b[0m\u001b[0;34m\u001b[0m\u001b[0m\n\u001b[0;32m--> 414\u001b[0;31m         output_shapes=self._structure._flat_shapes, name=name)\n\u001b[0m\u001b[1;32m    415\u001b[0m     \u001b[0;32mreturn\u001b[0m \u001b[0mself\u001b[0m\u001b[0;34m.\u001b[0m\u001b[0m_structure\u001b[0m\u001b[0;34m.\u001b[0m\u001b[0m_from_tensor_list\u001b[0m\u001b[0;34m(\u001b[0m\u001b[0mflat_ret\u001b[0m\u001b[0;34m)\u001b[0m\u001b[0;34m\u001b[0m\u001b[0;34m\u001b[0m\u001b[0m\n\u001b[1;32m    416\u001b[0m \u001b[0;34m\u001b[0m\u001b[0m\n",
      "\u001b[0;32m/opt/conda/envs/diplomacy/lib/python3.7/site-packages/tensorflow/python/ops/gen_dataset_ops.py\u001b[0m in \u001b[0;36miterator_get_next\u001b[0;34m(iterator, output_types, output_shapes, name)\u001b[0m\n\u001b[1;32m   1669\u001b[0m       \u001b[0;32melse\u001b[0m\u001b[0;34m:\u001b[0m\u001b[0;34m\u001b[0m\u001b[0;34m\u001b[0m\u001b[0m\n\u001b[1;32m   1670\u001b[0m         \u001b[0mmessage\u001b[0m \u001b[0;34m=\u001b[0m \u001b[0me\u001b[0m\u001b[0;34m.\u001b[0m\u001b[0mmessage\u001b[0m\u001b[0;34m\u001b[0m\u001b[0;34m\u001b[0m\u001b[0m\n\u001b[0;32m-> 1671\u001b[0;31m       \u001b[0m_six\u001b[0m\u001b[0;34m.\u001b[0m\u001b[0mraise_from\u001b[0m\u001b[0;34m(\u001b[0m\u001b[0m_core\u001b[0m\u001b[0;34m.\u001b[0m\u001b[0m_status_to_exception\u001b[0m\u001b[0;34m(\u001b[0m\u001b[0me\u001b[0m\u001b[0;34m.\u001b[0m\u001b[0mcode\u001b[0m\u001b[0;34m,\u001b[0m \u001b[0mmessage\u001b[0m\u001b[0;34m)\u001b[0m\u001b[0;34m,\u001b[0m \u001b[0;32mNone\u001b[0m\u001b[0;34m)\u001b[0m\u001b[0;34m\u001b[0m\u001b[0;34m\u001b[0m\u001b[0m\n\u001b[0m\u001b[1;32m   1672\u001b[0m   \u001b[0;31m# Add nodes to the TensorFlow graph.\u001b[0m\u001b[0;34m\u001b[0m\u001b[0;34m\u001b[0m\u001b[0;34m\u001b[0m\u001b[0m\n\u001b[1;32m   1673\u001b[0m   \u001b[0;32mif\u001b[0m \u001b[0;32mnot\u001b[0m \u001b[0misinstance\u001b[0m\u001b[0;34m(\u001b[0m\u001b[0moutput_types\u001b[0m\u001b[0;34m,\u001b[0m \u001b[0;34m(\u001b[0m\u001b[0mlist\u001b[0m\u001b[0;34m,\u001b[0m \u001b[0mtuple\u001b[0m\u001b[0;34m)\u001b[0m\u001b[0;34m)\u001b[0m\u001b[0;34m:\u001b[0m\u001b[0;34m\u001b[0m\u001b[0;34m\u001b[0m\u001b[0m\n",
      "\u001b[0;32m/opt/conda/envs/diplomacy/lib/python3.7/site-packages/six.py\u001b[0m in \u001b[0;36mraise_from\u001b[0;34m(value, from_value)\u001b[0m\n",
      "\u001b[0;31mFailedPreconditionError\u001b[0m: GetNext() failed because the iterator has not been initialized. Ensure that you have run the initializer operation for this iterator before getting the next element. [Op:IteratorGetNext]"
     ]
    }
   ],
   "source": [
    "start_distributed_training(callable_fn=get_trainer,\n",
    "                           flags=FLAGS,\n",
    "                           get_cluster_config_fn=get_cluster_config,\n",
    "                           with_process_pool=False)"
   ]
  },
  {
   "cell_type": "code",
   "execution_count": null,
   "id": "f068d0f0-ab57-4ad6-88e2-52b56e1f275b",
   "metadata": {},
   "outputs": [],
   "source": []
  },
  {
   "cell_type": "code",
   "execution_count": null,
   "id": "64da48fb-3160-40be-8712-7b424c6a4fb7",
   "metadata": {},
   "outputs": [],
   "source": []
  }
 ],
 "metadata": {
  "environment": {
   "kernel": "diplomacy",
   "name": "pytorch-gpu.1-9.m82",
   "type": "gcloud",
   "uri": "gcr.io/deeplearning-platform-release/pytorch-gpu.1-9:m82"
  },
  "kernelspec": {
   "display_name": "diplomacy",
   "language": "python",
   "name": "diplomacy"
  },
  "language_info": {
   "codemirror_mode": {
    "name": "ipython",
    "version": 3
   },
   "file_extension": ".py",
   "mimetype": "text/x-python",
   "name": "python",
   "nbconvert_exporter": "python",
   "pygments_lexer": "ipython3",
   "version": "3.7.12"
  }
 },
 "nbformat": 4,
 "nbformat_minor": 5
}
